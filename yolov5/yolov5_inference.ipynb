{
  "nbformat": 4,
  "nbformat_minor": 0,
  "metadata": {
    "colab": {
      "name": "RDD_inference_2.ipynb",
      "provenance": [],
      "collapsed_sections": []
    },
    "kernelspec": {
      "name": "python3",
      "display_name": "Python 3"
    },
    "language_info": {
      "name": "python"
    },
    "accelerator": "GPU"
  },
  "cells": [
    {
      "cell_type": "markdown",
      "source": [
        "#URL\n",
        "#https://youtu.be/mk1rvTt6Am8\n",
        "#の推論を行う"
      ],
      "metadata": {
        "id": "XxKImheA2mLx"
      }
    },
    {
      "cell_type": "markdown",
      "source": [
        "# はじめに\n",
        "- 上のランタイムの設定からランタイムの変更を押して，ランタイムのアクセラレータを**GPU**に変更してください．推論が速くなります．"
      ],
      "metadata": {
        "id": "-_p7sharWxGE"
      }
    },
    {
      "cell_type": "markdown",
      "source": [
        "前準備として以下のコード(前準備#0)をローカルで実行します．\n",
        "\n",
        "\n",
        "```\n",
        "# ここを書き換える\n",
        "URL = \"ここに書く\"\n",
        "```\n",
        "の箇所にURLを記入して，\n",
        "以下のコードをdowload_video_and_to_images.pyとして保存をしてください．\n",
        "\n",
        "次に，コマンドプロンプトまたはshellで\n",
        "`python dowload_video_and_to_images.py`\n",
        "と入力してくれれば，同じ階層に\n",
        "動画ファイルと**images**というフォルダが出来上がります．\n",
        "\n",
        "この**imagesをzip化**してください．\n",
        "\n",
        "次に，Google Driveを開きます．\n",
        "\n",
        "Google Driveにフォルダを作成してください．\n",
        "今回は`RDD_Japan`というフォルダを作成して話を進めます．\n",
        "\n",
        "このRDD_Japan以下に新しくフォルダを作成します．\n",
        "今回は，iq_gkMDbCKcとしました．\n",
        "\n",
        "前準備の最後に以下のコード(前準備#1)を実行して，zipを解凍します．"
      ],
      "metadata": {
        "id": "n0WfvyrAQ8IR"
      }
    },
    {
      "cell_type": "markdown",
      "source": [
        "# 前準備#0\n",
        "```\n",
        "import cv2\n",
        "import os\n",
        "\n",
        "from __future__ import unicode_literals\n",
        "import youtube_dl\n",
        "\n",
        "def save_all_frames(video_path, dir_path, basename, ext='jpg'):\n",
        "    cap = cv2.VideoCapture(video_path)\n",
        "\n",
        "    if not cap.isOpened():\n",
        "        return\n",
        "\n",
        "    os.makedirs(dir_path, exist_ok=True)\n",
        "    base_path = os.path.join(dir_path, basename)\n",
        "\n",
        "    digit = len(str(int(cap.get(cv2.CAP_PROP_FRAME_COUNT))))\n",
        "\n",
        "    n = 0\n",
        "\n",
        "    while True:\n",
        "        ret, frame = cap.read()\n",
        "        if ret:\n",
        "            cv2.imwrite('{}_{}.{}'.format(base_path, str(n).zfill(digit), ext), frame)\n",
        "            n += 1\n",
        "        else:\n",
        "            return\n",
        "\n",
        "if __name__ == '__main__':\n",
        "\n",
        "  #ここを書き換える\n",
        "  URL = \"https://www.youtube.com/watch?v=iq_gkMDbCKc\"\n",
        "\n",
        "  ydl_opts = {}\n",
        "  with youtube_dl.YoutubeDL(ydl_opts) as ydl:\n",
        "      ydl.download([f'{URL}'])\n",
        "  os.makedirs('./images', exist_ok=True)\n",
        "\n",
        "  files=os.listdir('./')\n",
        "  print(files)\n",
        "  for i in files:\n",
        "    if (\".py\" not in i) and (\"images\" not in i):\n",
        "      file_name=i\n",
        "      print(file_name)\n",
        "  filename = URL.split('=')[-1]\n",
        "  \n",
        "  save_all_frames(file_name,\n",
        "                'images', \n",
        "                filename)\n",
        "```"
      ],
      "metadata": {
        "id": "yeTbgsOFQiE_"
      }
    },
    {
      "cell_type": "markdown",
      "source": [
        "# 前準備#1"
      ],
      "metadata": {
        "id": "9RoqYLLwU8m0"
      }
    },
    {
      "cell_type": "code",
      "source": [
        "#ここを変える\n",
        "\n",
        "YOUTUBE_URL = 'https://youtu.be/mk1rvTt6Am8'"
      ],
      "metadata": {
        "id": "aZgxPtHNVM-y"
      },
      "execution_count": null,
      "outputs": []
    },
    {
      "cell_type": "code",
      "source": [
        "#これを実行してドライブと接続をする\n",
        "\n",
        "from google.colab import drive\n",
        "drive.mount('/content/drive')"
      ],
      "metadata": {
        "colab": {
          "base_uri": "https://localhost:8080/"
        },
        "id": "aPMUVxPHVBf8",
        "outputId": "9cd410d3-800b-4ac2-ce5b-f65291d5fa29"
      },
      "execution_count": null,
      "outputs": [
        {
          "output_type": "stream",
          "name": "stdout",
          "text": [
            "Mounted at /content/drive\n"
          ]
        }
      ]
    },
    {
      "cell_type": "code",
      "source": [
        "folder = YOUTUBE_URL.split('/')[-1]\n",
        "folder"
      ],
      "metadata": {
        "colab": {
          "base_uri": "https://localhost:8080/",
          "height": 35
        },
        "id": "vpAnEpbZVTwa",
        "outputId": "aad2a9f0-6f76-46ac-d9f6-815f1d396276"
      },
      "execution_count": null,
      "outputs": [
        {
          "output_type": "execute_result",
          "data": {
            "text/plain": [
              "'mk1rvTt6Am8'"
            ],
            "application/vnd.google.colaboratory.intrinsic+json": {
              "type": "string"
            }
          },
          "metadata": {},
          "execution_count": 3
        }
      ]
    },
    {
      "cell_type": "code",
      "source": [
        "import os\n",
        "\n",
        "os.makedirs(f'/content/drive/MyDrive/RDD_Japan_video/{folder}')"
      ],
      "metadata": {
        "id": "wBiTppAnXEzV"
      },
      "execution_count": null,
      "outputs": []
    },
    {
      "cell_type": "code",
      "source": [
        "%ls /content/drive/MyDrive/RDD_Japan_video/"
      ],
      "metadata": {
        "colab": {
          "base_uri": "https://localhost:8080/"
        },
        "id": "d9YsFliYWIla",
        "outputId": "e7f408fb-4625-409e-bb11-6a9301ecafb9"
      },
      "execution_count": null,
      "outputs": [
        {
          "output_type": "stream",
          "name": "stdout",
          "text": [
            "\u001b[0m\u001b[01;34mmk1rvTt6Am8\u001b[0m/\n"
          ]
        }
      ]
    },
    {
      "cell_type": "markdown",
      "source": [
        "上記が完了したら以下に移ります"
      ],
      "metadata": {
        "id": "nOVTB0xJWmFj"
      }
    },
    {
      "cell_type": "markdown",
      "source": [
        "# SETUP"
      ],
      "metadata": {
        "id": "7u19fuaj3HyV"
      }
    },
    {
      "cell_type": "markdown",
      "source": [
        "\n",
        "\n",
        "## 1. \n",
        "- あらかじめdriveの任意の位置に学習済みモデルを保存してください．今回は次のように指定しましょう．\n",
        "- **driveにRDD_Japanというフォルダを作ってください．**\n",
        "- **RDD_Japan/にRDD_Japan_50epochs.ptというファイルを配置してください．**\n",
        "\n",
        "## 2. Clone \n",
        "- https://github.com/ultralytics/yolov5　からyolov5をcloneしてください．\n",
        "\n",
        "## 3. \n",
        "- 学習済みモデルをyolov5/modelsに配置してください．\n"
      ],
      "metadata": {
        "id": "3Nekj5eF3NFF"
      }
    },
    {
      "cell_type": "code",
      "source": [
        "#1.\n",
        "#重みファイルをアップロードしておく"
      ],
      "metadata": {
        "id": "DeNp4kNyBYFo"
      },
      "execution_count": null,
      "outputs": []
    },
    {
      "cell_type": "code",
      "execution_count": null,
      "metadata": {
        "colab": {
          "base_uri": "https://localhost:8080/"
        },
        "id": "9m5oi12s2c-Y",
        "outputId": "3f36a5b9-1207-4814-d15b-84e86c1b7325"
      },
      "outputs": [
        {
          "output_type": "stream",
          "name": "stderr",
          "text": [
            "YOLOv5 🚀 v6.1-62-ga0a4adf torch 1.10.0+cu111 CUDA:0 (Tesla K80, 11441MiB)\n"
          ]
        },
        {
          "output_type": "stream",
          "name": "stdout",
          "text": [
            "Setup complete ✅ (2 CPUs, 12.7 GB RAM, 39.8/78.2 GB disk)\n"
          ]
        }
      ],
      "source": [
        "#2.githubからcloneする\n",
        "!git clone https://github.com/ultralytics/yolov5  # clone\n",
        "%cd yolov5\n",
        "%pip install -qr requirements.txt  # install\n",
        "\n",
        "import torch\n",
        "from yolov5 import utils\n",
        "display = utils.notebook_init()  # checks"
      ]
    },
    {
      "cell_type": "code",
      "source": [
        "#3.\n",
        "#重みの移動\n",
        "%cp \"/content/drive/MyDrive/RDD_Japan/RDD_Japan_50epochs.pt\" \"/content/yolov5/models\""
      ],
      "metadata": {
        "id": "fT_Y5PfS366R"
      },
      "execution_count": null,
      "outputs": []
    },
    {
      "cell_type": "code",
      "source": [
        "MODEL_PATH = \"./models/RDD_Japan_50epochs.pt\""
      ],
      "metadata": {
        "id": "ke1R101HA3YN"
      },
      "execution_count": null,
      "outputs": []
    },
    {
      "cell_type": "markdown",
      "source": [
        "# inference\n",
        "\n",
        "## 推論の実行\n",
        "- 以下のコマンドを実行して推論を行う\n",
        "\n",
        "`detect.py` runs YOLOv5 inference on a variety of sources, downloading models automatically from the [latest YOLOv5 release](https://github.com/ultralytics/yolov5/releases), and saving results to `runs/detect`. Example inference sources are:\n",
        "\n",
        "```shell\n",
        "python detect.py --source 0  # webcam\n",
        "                          img.jpg  # image \n",
        "                          vid.mp4  # video\n",
        "                          path/  # directory\n",
        "                          path/*.jpg  # glob\n",
        "                          'https://youtu.be/Zgi9g1ksQHc'  # YouTube\n",
        "                          'rtsp://example.com/media.mp4'  # RTSP, RTMP, HTTP stream\n",
        "```"
      ],
      "metadata": {
        "id": "fnfH2WMB4pjt"
      }
    },
    {
      "cell_type": "code",
      "source": [
        "%%capture cap\n",
        "!python detect.py --weights ./models/RDD_Japan_50epochs.pt --img 640 --conf 0.25 --source {YOUTUBE_URL} --save-txt --save-conf"
      ],
      "metadata": {
        "id": "7igwOsQA4a-Z"
      },
      "execution_count": null,
      "outputs": []
    },
    {
      "cell_type": "code",
      "source": [
        "folder = f\"/content/drive/MyDrive/RDD_Japan_video/{folder}/\""
      ],
      "metadata": {
        "id": "2YK5LwOpYKsN"
      },
      "execution_count": null,
      "outputs": []
    },
    {
      "cell_type": "code",
      "source": [
        "%cp -r \"/content/yolov5/runs/detect/exp/\" {folder}"
      ],
      "metadata": {
        "id": "myxIkcBI62-F"
      },
      "execution_count": null,
      "outputs": []
    },
    {
      "cell_type": "code",
      "source": [
        "url = YOUTUBE_URL.split('/')[-1]\n",
        "url"
      ],
      "metadata": {
        "colab": {
          "base_uri": "https://localhost:8080/",
          "height": 35
        },
        "id": "aoi1XBdleQzj",
        "outputId": "e2f3501d-cdd4-42f5-94c3-f01258a05956"
      },
      "execution_count": null,
      "outputs": [
        {
          "output_type": "execute_result",
          "data": {
            "text/plain": [
              "'mk1rvTt6Am8'"
            ],
            "application/vnd.google.colaboratory.intrinsic+json": {
              "type": "string"
            }
          },
          "metadata": {},
          "execution_count": 21
        }
      ]
    },
    {
      "cell_type": "code",
      "source": [
        "%cp -r /content/yolov5/runs/detect/exp/{url}.mp4 {folder}"
      ],
      "metadata": {
        "id": "YRZGGf6MeIPi"
      },
      "execution_count": null,
      "outputs": []
    },
    {
      "cell_type": "code",
      "source": [
        "%ls {folder}"
      ],
      "metadata": {
        "id": "zN1g71M6rQ_H",
        "colab": {
          "base_uri": "https://localhost:8080/"
        },
        "outputId": "927d9b9f-7695-4c96-9242-5497f205900f"
      },
      "execution_count": null,
      "outputs": [
        {
          "output_type": "stream",
          "name": "stdout",
          "text": [
            "\u001b[0m\u001b[01;34mexp\u001b[0m/  mk1rvTt6Am8.mp4\n"
          ]
        }
      ]
    },
    {
      "cell_type": "code",
      "source": [
        "folder"
      ],
      "metadata": {
        "colab": {
          "base_uri": "https://localhost:8080/",
          "height": 35
        },
        "id": "7caEiZXXd01s",
        "outputId": "c5b3d852-eb73-4f68-8ff6-e274f3e20e15"
      },
      "execution_count": null,
      "outputs": [
        {
          "output_type": "execute_result",
          "data": {
            "text/plain": [
              "'/content/drive/MyDrive/RDD_Japan_video/mk1rvTt6Am8/'"
            ],
            "application/vnd.google.colaboratory.intrinsic+json": {
              "type": "string"
            }
          },
          "metadata": {},
          "execution_count": 26
        }
      ]
    },
    {
      "cell_type": "markdown",
      "source": [
        "#ref\n",
        "https://colab.research.google.com/github/tryolabs/norfair/blob/master/demos/yolov5/yolov5_demo.ipynb#scrollTo=zKN1li519ns4"
      ],
      "metadata": {
        "id": "9i6SVYqPgRV4"
      }
    },
    {
      "cell_type": "code",
      "source": [
        "!ffmpeg -i /content/yolov5/runs/detect/exp/mk1rvTt6Am8.mp4 -vcodec vp9 ./sample.webm"
      ],
      "metadata": {
        "colab": {
          "base_uri": "https://localhost:8080/"
        },
        "id": "owoTIbyHevmL",
        "outputId": "1e64d6af-9184-4766-e9e3-2ade1054649d"
      },
      "execution_count": null,
      "outputs": [
        {
          "metadata": {
            "tags": null
          },
          "name": "stdout",
          "output_type": "stream",
          "text": [
            "ffmpeg version 3.4.8-0ubuntu0.2 Copyright (c) 2000-2020 the FFmpeg developers\n",
            "  built with gcc 7 (Ubuntu 7.5.0-3ubuntu1~18.04)\n",
            "  configuration: --prefix=/usr --extra-version=0ubuntu0.2 --toolchain=hardened --libdir=/usr/lib/x86_64-linux-gnu --incdir=/usr/include/x86_64-linux-gnu --enable-gpl --disable-stripping --enable-avresample --enable-avisynth --enable-gnutls --enable-ladspa --enable-libass --enable-libbluray --enable-libbs2b --enable-libcaca --enable-libcdio --enable-libflite --enable-libfontconfig --enable-libfreetype --enable-libfribidi --enable-libgme --enable-libgsm --enable-libmp3lame --enable-libmysofa --enable-libopenjpeg --enable-libopenmpt --enable-libopus --enable-libpulse --enable-librubberband --enable-librsvg --enable-libshine --enable-libsnappy --enable-libsoxr --enable-libspeex --enable-libssh --enable-libtheora --enable-libtwolame --enable-libvorbis --enable-libvpx --enable-libwavpack --enable-libwebp --enable-libx265 --enable-libxml2 --enable-libxvid --enable-libzmq --enable-libzvbi --enable-omx --enable-openal --enable-opengl --enable-sdl2 --enable-libdc1394 --enable-libdrm --enable-libiec61883 --enable-chromaprint --enable-frei0r --enable-libopencv --enable-libx264 --enable-shared\n",
            "  libavutil      55. 78.100 / 55. 78.100\n",
            "  libavcodec     57.107.100 / 57.107.100\n",
            "  libavformat    57. 83.100 / 57. 83.100\n",
            "  libavdevice    57. 10.100 / 57. 10.100\n",
            "  libavfilter     6.107.100 /  6.107.100\n",
            "  libavresample   3.  7.  0 /  3.  7.  0\n",
            "  libswscale      4.  8.100 /  4.  8.100\n",
            "  libswresample   2.  9.100 /  2.  9.100\n",
            "  libpostproc    54.  7.100 / 54.  7.100\n",
            "Input #0, mov,mp4,m4a,3gp,3g2,mj2, from '/content/yolov5/runs/detect/exp/mk1rvTt6Am8.mp4':\n",
            "  Metadata:\n",
            "    major_brand     : isom\n",
            "    minor_version   : 512\n",
            "    compatible_brands: isomiso2mp41\n",
            "    encoder         : Lavf58.35.100\n",
            "  Duration: 00:21:15.73, start: 0.000000, bitrate: 4828 kb/s\n",
            "    Stream #0:0(und): Video: mpeg4 (Simple Profile) (mp4v / 0x7634706D), yuv420p, 960x720 [SAR 1:1 DAR 4:3], 4827 kb/s, 30 fps, 30 tbr, 15360 tbn, 30 tbc (default)\n",
            "    Metadata:\n",
            "      handler_name    : VideoHandler\n",
            "Stream mapping:\n",
            "  Stream #0:0 -> #0:0 (mpeg4 (native) -> vp9 (libvpx-vp9))\n",
            "Press [q] to stop, [?] for help\n",
            "\u001b[1;36m[libvpx-vp9 @ 0x5578d79a5900] \u001b[0mv1.7.0\n",
            "Output #0, webm, to './sample.webm':\n",
            "  Metadata:\n",
            "    major_brand     : isom\n",
            "    minor_version   : 512\n",
            "    compatible_brands: isomiso2mp41\n",
            "    encoder         : Lavf57.83.100\n",
            "    Stream #0:0(und): Video: vp9 (libvpx-vp9), yuv420p, 960x720 [SAR 1:1 DAR 4:3], q=-1--1, 200 kb/s, 30 fps, 1k tbn, 30 tbc (default)\n",
            "    Metadata:\n",
            "      handler_name    : VideoHandler\n",
            "      encoder         : Lavc57.107.100 libvpx-vp9\n",
            "    Side data:\n",
            "      cpb: bitrate max/min/avg: 0/0/0 buffer size: 0 vbv_delay: -1\n",
            "frame=38272 fps=6.9 q=0.0 Lsize=   54984kB time=00:21:15.70 bitrate= 353.1kbits/s speed=0.23x    \n",
            "video:54724kB audio:0kB subtitle:0kB other streams:0kB global headers:0kB muxing overhead: 0.474746%\n"
          ]
        }
      ]
    },
    {
      "cell_type": "code",
      "source": [
        "import io\n",
        "from base64 import b64encode\n",
        "from IPython.display import HTML\n",
        "\n",
        "with  io.open('sample.webm','r+b') as f:\n",
        "    mp4 = f.read()\n",
        "data_url = \"data:video/webm;base64,\" + b64encode(mp4).decode()\n",
        "HTML(\"\"\"\n",
        "<video width=800 controls>\n",
        "      <source src=\"%s\" type=\"video/webm\">\n",
        "</video>\n",
        "\"\"\" % data_url)"
      ],
      "metadata": {
        "id": "5P422pQCfxew"
      },
      "execution_count": null,
      "outputs": []
    },
    {
      "cell_type": "code",
      "source": [
        ""
      ],
      "metadata": {
        "id": "3CrfoM8cgQIT"
      },
      "execution_count": null,
      "outputs": []
    }
  ]
}