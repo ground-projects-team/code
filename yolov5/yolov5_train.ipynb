{
 "cells": [
  {
   "cell_type": "code",
   "execution_count": 1,
   "id": "b2bbb77a",
   "metadata": {
    "_cell_guid": "b1076dfc-b9ad-4769-8c92-a6c4dae69d19",
    "_uuid": "8f2839f25d086af736a60e9eeb907d3b93b6e0e5",
    "execution": {
     "iopub.execute_input": "2022-03-21T15:50:25.894432Z",
     "iopub.status.busy": "2022-03-21T15:50:25.892990Z",
     "iopub.status.idle": "2022-03-21T15:50:25.895611Z",
     "shell.execute_reply": "2022-03-21T15:50:25.896015Z",
     "shell.execute_reply.started": "2022-03-21T14:02:24.441953Z"
    },
    "papermill": {
     "duration": 0.038193,
     "end_time": "2022-03-21T15:50:25.896217",
     "exception": false,
     "start_time": "2022-03-21T15:50:25.858024",
     "status": "completed"
    },
    "tags": []
   },
   "outputs": [],
   "source": [
    "# reference\n",
    "\n",
    "#https://www.kaggle.com/code/ayuraj/train-covid-19-detection-using-yolov5/notebook\n"
   ]
  },
  {
   "cell_type": "code",
   "execution_count": 2,
   "id": "00b6fc59",
   "metadata": {
    "execution": {
     "iopub.execute_input": "2022-03-21T15:50:25.975865Z",
     "iopub.status.busy": "2022-03-21T15:50:25.974933Z",
     "iopub.status.idle": "2022-03-21T15:50:25.983095Z",
     "shell.execute_reply": "2022-03-21T15:50:25.983532Z",
     "shell.execute_reply.started": "2022-03-21T14:02:24.448518Z"
    },
    "papermill": {
     "duration": 0.058766,
     "end_time": "2022-03-21T15:50:25.983670",
     "exception": false,
     "start_time": "2022-03-21T15:50:25.924904",
     "status": "completed"
    },
    "tags": []
   },
   "outputs": [],
   "source": [
    "import os"
   ]
  },
  {
   "cell_type": "markdown",
   "id": "16b475a8",
   "metadata": {
    "papermill": {
     "duration": 0.027773,
     "end_time": "2022-03-21T15:50:26.056023",
     "exception": false,
     "start_time": "2022-03-21T15:50:26.028250",
     "status": "completed"
    },
    "tags": []
   },
   "source": [
    " \n",
    "``` /parent_folder\n",
    "    /dataset\n",
    "         /images\n",
    "         /labels\n",
    "    /yolov5\n",
    "```\n",
    "のような階層構造にする\n"
   ]
  },
  {
   "cell_type": "code",
   "execution_count": 3,
   "id": "2cedb653",
   "metadata": {
    "execution": {
     "iopub.execute_input": "2022-03-21T15:50:26.117423Z",
     "iopub.status.busy": "2022-03-21T15:50:26.116678Z",
     "iopub.status.idle": "2022-03-21T15:50:26.765529Z",
     "shell.execute_reply": "2022-03-21T15:50:26.765060Z",
     "shell.execute_reply.started": "2022-03-21T14:02:24.459395Z"
    },
    "papermill": {
     "duration": 0.681264,
     "end_time": "2022-03-21T15:50:26.765661",
     "exception": false,
     "start_time": "2022-03-21T15:50:26.084397",
     "status": "completed"
    },
    "tags": []
   },
   "outputs": [
    {
     "name": "stdout",
     "output_type": "stream",
     "text": [
      "/kaggle\n"
     ]
    }
   ],
   "source": [
    "%cd ../\n",
    "!mkdir tmp"
   ]
  },
  {
   "cell_type": "code",
   "execution_count": 4,
   "id": "efda3004",
   "metadata": {
    "execution": {
     "iopub.execute_input": "2022-03-21T15:50:26.828836Z",
     "iopub.status.busy": "2022-03-21T15:50:26.828052Z",
     "iopub.status.idle": "2022-03-21T15:50:27.475585Z",
     "shell.execute_reply": "2022-03-21T15:50:27.475120Z",
     "shell.execute_reply.started": "2022-03-21T14:02:25.127882Z"
    },
    "papermill": {
     "duration": 0.680642,
     "end_time": "2022-03-21T15:50:27.475712",
     "exception": false,
     "start_time": "2022-03-21T15:50:26.795070",
     "status": "completed"
    },
    "tags": []
   },
   "outputs": [
    {
     "name": "stdout",
     "output_type": "stream",
     "text": [
      "\u001b[0m\u001b[01;34minput\u001b[0m/  \u001b[01;34mlib\u001b[0m/  \u001b[01;34msrc\u001b[0m/  \u001b[01;34mtmp\u001b[0m/  \u001b[01;34mworking\u001b[0m/\r\n"
     ]
    }
   ],
   "source": [
    "%ls"
   ]
  },
  {
   "cell_type": "code",
   "execution_count": 5,
   "id": "7356fedf",
   "metadata": {
    "execution": {
     "iopub.execute_input": "2022-03-21T15:50:27.538035Z",
     "iopub.status.busy": "2022-03-21T15:50:27.537388Z",
     "iopub.status.idle": "2022-03-21T15:50:27.540121Z",
     "shell.execute_reply": "2022-03-21T15:50:27.539733Z",
     "shell.execute_reply.started": "2022-03-21T14:02:25.786855Z"
    },
    "papermill": {
     "duration": 0.035292,
     "end_time": "2022-03-21T15:50:27.540225",
     "exception": false,
     "start_time": "2022-03-21T15:50:27.504933",
     "status": "completed"
    },
    "tags": []
   },
   "outputs": [],
   "source": [
    "#!cp -r \"input/rdd-japan/data\" \"tmp/\""
   ]
  },
  {
   "cell_type": "code",
   "execution_count": 6,
   "id": "cc65f9e2",
   "metadata": {
    "execution": {
     "iopub.execute_input": "2022-03-21T15:50:27.641519Z",
     "iopub.status.busy": "2022-03-21T15:50:27.640654Z",
     "iopub.status.idle": "2022-03-21T15:50:27.648254Z",
     "shell.execute_reply": "2022-03-21T15:50:27.648890Z",
     "shell.execute_reply.started": "2022-03-21T14:02:25.793135Z"
    },
    "papermill": {
     "duration": 0.078038,
     "end_time": "2022-03-21T15:50:27.649106",
     "exception": false,
     "start_time": "2022-03-21T15:50:27.571068",
     "status": "completed"
    },
    "tags": []
   },
   "outputs": [
    {
     "data": {
      "text/plain": [
       "\"os.makedirs('/tmp/rdd/images/train', exist_ok=True)\\nos.makedirs('/tmp/rdd/images/valid', exist_ok=True)\\n\\nos.makedirs('/tmp/rdd/labels/train', exist_ok=True)\\nos.makedirs('/tmp/rdd/labels/valid', exist_ok=True)\""
      ]
     },
     "execution_count": 6,
     "metadata": {},
     "output_type": "execute_result"
    }
   ],
   "source": [
    "\"\"\"os.makedirs('/tmp/rdd/images/train', exist_ok=True)\n",
    "os.makedirs('/tmp/rdd/images/valid', exist_ok=True)\n",
    "\n",
    "os.makedirs('/tmp/rdd/labels/train', exist_ok=True)\n",
    "os.makedirs('/tmp/rdd/labels/valid', exist_ok=True)\"\"\"\n"
   ]
  },
  {
   "cell_type": "code",
   "execution_count": 7,
   "id": "d3b66cbe",
   "metadata": {
    "execution": {
     "iopub.execute_input": "2022-03-21T15:50:27.769265Z",
     "iopub.status.busy": "2022-03-21T15:50:27.768352Z",
     "iopub.status.idle": "2022-03-21T15:50:28.506798Z",
     "shell.execute_reply": "2022-03-21T15:50:28.506026Z",
     "shell.execute_reply.started": "2022-03-21T14:02:25.807699Z"
    },
    "papermill": {
     "duration": 0.796352,
     "end_time": "2022-03-21T15:50:28.506937",
     "exception": false,
     "start_time": "2022-03-21T15:50:27.710585",
     "status": "completed"
    },
    "tags": []
   },
   "outputs": [
    {
     "name": "stdout",
     "output_type": "stream",
     "text": [
      "ls: cannot access 'tmp/rdd': No such file or directory\r\n"
     ]
    }
   ],
   "source": [
    "%ls tmp/rdd"
   ]
  },
  {
   "cell_type": "code",
   "execution_count": 8,
   "id": "f64561e2",
   "metadata": {
    "execution": {
     "iopub.execute_input": "2022-03-21T15:50:28.570664Z",
     "iopub.status.busy": "2022-03-21T15:50:28.570070Z",
     "iopub.status.idle": "2022-03-21T15:50:29.214772Z",
     "shell.execute_reply": "2022-03-21T15:50:29.214286Z",
     "shell.execute_reply.started": "2022-03-21T14:02:26.469871Z"
    },
    "papermill": {
     "duration": 0.678327,
     "end_time": "2022-03-21T15:50:29.214896",
     "exception": false,
     "start_time": "2022-03-21T15:50:28.536569",
     "status": "completed"
    },
    "tags": []
   },
   "outputs": [
    {
     "name": "stdout",
     "output_type": "stream",
     "text": [
      "\u001b[0m\u001b[01;34mrdd-japan\u001b[0m/  \u001b[01;34myolov5-lib-ds\u001b[0m/\r\n"
     ]
    }
   ],
   "source": [
    "%ls input"
   ]
  },
  {
   "cell_type": "code",
   "execution_count": 9,
   "id": "bd232797",
   "metadata": {
    "execution": {
     "iopub.execute_input": "2022-03-21T15:50:29.280635Z",
     "iopub.status.busy": "2022-03-21T15:50:29.279820Z",
     "iopub.status.idle": "2022-03-21T15:50:29.282232Z",
     "shell.execute_reply": "2022-03-21T15:50:29.281840Z",
     "shell.execute_reply.started": "2022-03-21T14:02:27.130601Z"
    },
    "papermill": {
     "duration": 0.036602,
     "end_time": "2022-03-21T15:50:29.282338",
     "exception": false,
     "start_time": "2022-03-21T15:50:29.245736",
     "status": "completed"
    },
    "tags": []
   },
   "outputs": [],
   "source": [
    "#%cp \"input/rdd-japan/data/Train/images/*\" \"tmp/rdd/images/train/\""
   ]
  },
  {
   "cell_type": "code",
   "execution_count": 10,
   "id": "6d535a11",
   "metadata": {
    "execution": {
     "iopub.execute_input": "2022-03-21T15:50:29.345438Z",
     "iopub.status.busy": "2022-03-21T15:50:29.344854Z",
     "iopub.status.idle": "2022-03-21T15:50:29.347509Z",
     "shell.execute_reply": "2022-03-21T15:50:29.347070Z",
     "shell.execute_reply.started": "2022-03-21T14:02:27.136814Z"
    },
    "papermill": {
     "duration": 0.035423,
     "end_time": "2022-03-21T15:50:29.347620",
     "exception": false,
     "start_time": "2022-03-21T15:50:29.312197",
     "status": "completed"
    },
    "tags": []
   },
   "outputs": [],
   "source": [
    "#%cp \"input/rdd-japan/data/Train/labels/\" 'tmp/rdd/labels/train'"
   ]
  },
  {
   "cell_type": "code",
   "execution_count": 11,
   "id": "fa1a43fa",
   "metadata": {
    "execution": {
     "iopub.execute_input": "2022-03-21T15:50:29.411609Z",
     "iopub.status.busy": "2022-03-21T15:50:29.410976Z",
     "iopub.status.idle": "2022-03-21T15:50:29.413609Z",
     "shell.execute_reply": "2022-03-21T15:50:29.413133Z",
     "shell.execute_reply.started": "2022-03-21T14:02:27.145771Z"
    },
    "papermill": {
     "duration": 0.035784,
     "end_time": "2022-03-21T15:50:29.413713",
     "exception": false,
     "start_time": "2022-03-21T15:50:29.377929",
     "status": "completed"
    },
    "tags": []
   },
   "outputs": [],
   "source": [
    "#%cp -r \"input/rdd-japan/data/Valid/labels/\" 'tmp/rdd/labels/valid'"
   ]
  },
  {
   "cell_type": "code",
   "execution_count": 12,
   "id": "3fe5861b",
   "metadata": {
    "execution": {
     "iopub.execute_input": "2022-03-21T15:50:29.476820Z",
     "iopub.status.busy": "2022-03-21T15:50:29.476164Z",
     "iopub.status.idle": "2022-03-21T15:50:29.478300Z",
     "shell.execute_reply": "2022-03-21T15:50:29.478765Z",
     "shell.execute_reply.started": "2022-03-21T14:02:27.155536Z"
    },
    "papermill": {
     "duration": 0.035301,
     "end_time": "2022-03-21T15:50:29.478882",
     "exception": false,
     "start_time": "2022-03-21T15:50:29.443581",
     "status": "completed"
    },
    "tags": []
   },
   "outputs": [],
   "source": [
    "#%cp -r \"input/rdd-japan/data/Valid/images/\" 'tmp/rdd/images/valid'"
   ]
  },
  {
   "cell_type": "code",
   "execution_count": 13,
   "id": "cdb5b0bd",
   "metadata": {
    "execution": {
     "iopub.execute_input": "2022-03-21T15:50:29.541734Z",
     "iopub.status.busy": "2022-03-21T15:50:29.541009Z",
     "iopub.status.idle": "2022-03-21T15:50:29.542898Z",
     "shell.execute_reply": "2022-03-21T15:50:29.543313Z",
     "shell.execute_reply.started": "2022-03-21T14:02:27.165565Z"
    },
    "papermill": {
     "duration": 0.035028,
     "end_time": "2022-03-21T15:50:29.543435",
     "exception": false,
     "start_time": "2022-03-21T15:50:29.508407",
     "status": "completed"
    },
    "tags": []
   },
   "outputs": [],
   "source": [
    "#%ls 'tmp/rdd/images/valid/'"
   ]
  },
  {
   "cell_type": "code",
   "execution_count": 14,
   "id": "ca1eefb9",
   "metadata": {
    "execution": {
     "iopub.execute_input": "2022-03-21T15:50:29.608005Z",
     "iopub.status.busy": "2022-03-21T15:50:29.606856Z",
     "iopub.status.idle": "2022-03-21T15:50:29.611096Z",
     "shell.execute_reply": "2022-03-21T15:50:29.611520Z",
     "shell.execute_reply.started": "2022-03-21T14:02:27.171118Z"
    },
    "papermill": {
     "duration": 0.038455,
     "end_time": "2022-03-21T15:50:29.611642",
     "exception": false,
     "start_time": "2022-03-21T15:50:29.573187",
     "status": "completed"
    },
    "tags": []
   },
   "outputs": [
    {
     "name": "stdout",
     "output_type": "stream",
     "text": [
      "/kaggle/tmp\n"
     ]
    }
   ],
   "source": [
    "%cd tmp"
   ]
  },
  {
   "cell_type": "code",
   "execution_count": 15,
   "id": "c22ef9b0",
   "metadata": {
    "execution": {
     "iopub.execute_input": "2022-03-21T15:50:29.679585Z",
     "iopub.status.busy": "2022-03-21T15:50:29.678870Z",
     "iopub.status.idle": "2022-03-21T15:50:42.717395Z",
     "shell.execute_reply": "2022-03-21T15:50:42.718034Z",
     "shell.execute_reply.started": "2022-03-21T14:02:27.180658Z"
    },
    "papermill": {
     "duration": 13.076129,
     "end_time": "2022-03-21T15:50:42.718226",
     "exception": false,
     "start_time": "2022-03-21T15:50:29.642097",
     "status": "completed"
    },
    "tags": []
   },
   "outputs": [
    {
     "name": "stdout",
     "output_type": "stream",
     "text": [
      "Cloning into 'yolov5'...\r\n",
      "remote: Enumerating objects: 11588, done.\u001b[K\r\n",
      "remote: Total 11588 (delta 0), reused 0 (delta 0), pack-reused 11588\u001b[K\r\n",
      "Receiving objects: 100% (11588/11588), 11.33 MiB | 31.03 MiB/s, done.\r\n",
      "Resolving deltas: 100% (8011/8011), done.\r\n",
      "/kaggle/tmp/yolov5\n",
      "\u001b[33mWARNING: Running pip as the 'root' user can result in broken permissions and conflicting behaviour with the system package manager. It is recommended to use a virtual environment instead: https://pip.pypa.io/warnings/venv\u001b[0m\r\n",
      "Note: you may need to restart the kernel to use updated packages.\n",
      "/kaggle/tmp\n",
      "Setup complete. Using torch 1.9.1 (Tesla P100-PCIE-16GB)\n"
     ]
    }
   ],
   "source": [
    "!git clone https://github.com/ultralytics/yolov5  # clone\n",
    "%cd yolov5\n",
    "%pip install -qr requirements.txt  # install\n",
    "\n",
    "%cd ../\n",
    "import torch\n",
    "print(f\"Setup complete. Using torch {torch.__version__} ({torch.cuda.get_device_properties(0).name if torch.cuda.is_available() else 'CPU'})\")\n"
   ]
  },
  {
   "cell_type": "code",
   "execution_count": 16,
   "id": "1f8934ff",
   "metadata": {
    "execution": {
     "iopub.execute_input": "2022-03-21T15:50:42.796791Z",
     "iopub.status.busy": "2022-03-21T15:50:42.795273Z",
     "iopub.status.idle": "2022-03-21T15:50:42.800797Z",
     "shell.execute_reply": "2022-03-21T15:50:42.800366Z",
     "shell.execute_reply.started": "2022-03-21T14:02:36.137870Z"
    },
    "papermill": {
     "duration": 0.045057,
     "end_time": "2022-03-21T15:50:42.800906",
     "exception": false,
     "start_time": "2022-03-21T15:50:42.755849",
     "status": "completed"
    },
    "tags": []
   },
   "outputs": [],
   "source": [
    "os.makedirs('../tmp/yolov5/data/images/train', exist_ok=True)\n",
    "os.makedirs('../tmp/yolov5/data/images/valid', exist_ok=True)\n",
    "\n",
    "os.makedirs('../tmp/yolov5/data/labels/train', exist_ok=True)\n",
    "os.makedirs('../tmp/yolov5/data/labels/valid', exist_ok=True)"
   ]
  },
  {
   "cell_type": "code",
   "execution_count": 17,
   "id": "dfae47a4",
   "metadata": {
    "execution": {
     "iopub.execute_input": "2022-03-21T15:50:42.877462Z",
     "iopub.status.busy": "2022-03-21T15:50:42.876829Z",
     "iopub.status.idle": "2022-03-21T15:50:42.879455Z",
     "shell.execute_reply": "2022-03-21T15:50:42.878991Z",
     "shell.execute_reply.started": "2022-03-21T14:02:36.143819Z"
    },
    "papermill": {
     "duration": 0.042279,
     "end_time": "2022-03-21T15:50:42.879582",
     "exception": false,
     "start_time": "2022-03-21T15:50:42.837303",
     "status": "completed"
    },
    "tags": []
   },
   "outputs": [],
   "source": [
    "#%cp \"../../kaggle/input/rdd-japan/data/Train/images/\" \"../tmp/yolov5/data/images/train/\""
   ]
  },
  {
   "cell_type": "code",
   "execution_count": 18,
   "id": "fb6deada",
   "metadata": {
    "execution": {
     "iopub.execute_input": "2022-03-21T15:50:42.956354Z",
     "iopub.status.busy": "2022-03-21T15:50:42.955674Z",
     "iopub.status.idle": "2022-03-21T15:52:20.025394Z",
     "shell.execute_reply": "2022-03-21T15:52:20.025829Z",
     "shell.execute_reply.started": "2022-03-21T14:02:36.153465Z"
    },
    "papermill": {
     "duration": 97.109809,
     "end_time": "2022-03-21T15:52:20.026012",
     "exception": false,
     "start_time": "2022-03-21T15:50:42.916203",
     "status": "completed"
    },
    "tags": []
   },
   "outputs": [],
   "source": [
    "%cp -r \"../../kaggle/input/rdd-japan/data/Train/\" \"../tmp/yolov5/data/\""
   ]
  },
  {
   "cell_type": "code",
   "execution_count": 19,
   "id": "bb789e8b",
   "metadata": {
    "execution": {
     "iopub.execute_input": "2022-03-21T15:52:20.104611Z",
     "iopub.status.busy": "2022-03-21T15:52:20.103886Z",
     "iopub.status.idle": "2022-03-21T15:53:00.255002Z",
     "shell.execute_reply": "2022-03-21T15:53:00.255429Z",
     "shell.execute_reply.started": "2022-03-21T14:02:52.240480Z"
    },
    "papermill": {
     "duration": 40.192411,
     "end_time": "2022-03-21T15:53:00.255610",
     "exception": false,
     "start_time": "2022-03-21T15:52:20.063199",
     "status": "completed"
    },
    "tags": []
   },
   "outputs": [],
   "source": [
    "%cp -r \"../../kaggle/input/rdd-japan/data/Valid/\" \"../tmp/yolov5/data/\""
   ]
  },
  {
   "cell_type": "code",
   "execution_count": 20,
   "id": "ab7b7620",
   "metadata": {
    "execution": {
     "iopub.execute_input": "2022-03-21T15:53:00.339912Z",
     "iopub.status.busy": "2022-03-21T15:53:00.335045Z",
     "iopub.status.idle": "2022-03-21T15:53:00.988800Z",
     "shell.execute_reply": "2022-03-21T15:53:00.988334Z",
     "shell.execute_reply.started": "2022-03-21T14:02:59.471112Z"
    },
    "papermill": {
     "duration": 0.695525,
     "end_time": "2022-03-21T15:53:00.988936",
     "exception": false,
     "start_time": "2022-03-21T15:53:00.293411",
     "status": "completed"
    },
    "tags": []
   },
   "outputs": [
    {
     "name": "stdout",
     "output_type": "stream",
     "text": [
      "Argoverse.yaml        SKU-110K.yaml  \u001b[0m\u001b[01;34mValid\u001b[0m/         coco128.yaml  \u001b[01;34mlabels\u001b[0m/\r\n",
      "GlobalWheat2020.yaml  \u001b[01;34mTrain\u001b[0m/         VisDrone.yaml  \u001b[01;34mhyps\u001b[0m/         \u001b[01;34mscripts\u001b[0m/\r\n",
      "Objects365.yaml       VOC.yaml       coco.yaml      \u001b[01;34mimages\u001b[0m/       xView.yaml\r\n"
     ]
    }
   ],
   "source": [
    "%ls \"../tmp/yolov5/data/\""
   ]
  },
  {
   "cell_type": "code",
   "execution_count": 21,
   "id": "6822a8cc",
   "metadata": {
    "execution": {
     "iopub.execute_input": "2022-03-21T15:53:01.067453Z",
     "iopub.status.busy": "2022-03-21T15:53:01.066733Z",
     "iopub.status.idle": "2022-03-21T15:53:01.729751Z",
     "shell.execute_reply": "2022-03-21T15:53:01.728966Z",
     "shell.execute_reply.started": "2022-03-21T14:03:00.127892Z"
    },
    "papermill": {
     "duration": 0.703844,
     "end_time": "2022-03-21T15:53:01.729956",
     "exception": false,
     "start_time": "2022-03-21T15:53:01.026112",
     "status": "completed"
    },
    "tags": []
   },
   "outputs": [
    {
     "name": "stdout",
     "output_type": "stream",
     "text": [
      "\u001b[0m\u001b[01;34mimages\u001b[0m/  \u001b[01;34mlabels\u001b[0m/\r\n"
     ]
    }
   ],
   "source": [
    "%ls \"../tmp/yolov5/data/Train\""
   ]
  },
  {
   "cell_type": "code",
   "execution_count": 22,
   "id": "6a679b3f",
   "metadata": {
    "execution": {
     "iopub.execute_input": "2022-03-21T15:53:01.871368Z",
     "iopub.status.busy": "2022-03-21T15:53:01.870608Z",
     "iopub.status.idle": "2022-03-21T15:53:10.257687Z",
     "shell.execute_reply": "2022-03-21T15:53:10.256745Z",
     "shell.execute_reply.started": "2022-03-21T14:03:00.784713Z"
    },
    "papermill": {
     "duration": 8.457377,
     "end_time": "2022-03-21T15:53:10.257834",
     "exception": false,
     "start_time": "2022-03-21T15:53:01.800457",
     "status": "completed"
    },
    "tags": []
   },
   "outputs": [
    {
     "name": "stdout",
     "output_type": "stream",
     "text": [
      "\u001b[33mWARNING: Running pip as the 'root' user can result in broken permissions and conflicting behaviour with the system package manager. It is recommended to use a virtual environment instead: https://pip.pypa.io/warnings/venv\u001b[0m\r\n"
     ]
    }
   ],
   "source": [
    "# Install W&B \n",
    "!pip install -q --upgrade wandb\n",
    "# Login \n",
    "import wandb\n",
    "#wandb.login()"
   ]
  },
  {
   "cell_type": "code",
   "execution_count": 23,
   "id": "41d294e7",
   "metadata": {
    "execution": {
     "iopub.execute_input": "2022-03-21T15:53:10.340600Z",
     "iopub.status.busy": "2022-03-21T15:53:10.339980Z",
     "iopub.status.idle": "2022-03-21T15:53:11.534659Z",
     "shell.execute_reply": "2022-03-21T15:53:11.534176Z",
     "shell.execute_reply.started": "2022-03-21T14:03:09.990658Z"
    },
    "papermill": {
     "duration": 1.23796,
     "end_time": "2022-03-21T15:53:11.534788",
     "exception": false,
     "start_time": "2022-03-21T15:53:10.296828",
     "status": "completed"
    },
    "tags": []
   },
   "outputs": [],
   "source": [
    "# Necessary/extra dependencies. \n",
    "import os\n",
    "import gc\n",
    "import cv2\n",
    "import numpy as np\n",
    "import pandas as pd\n",
    "from tqdm import tqdm\n",
    "from shutil import copyfile\n",
    "import matplotlib.pyplot as plt\n",
    "from sklearn.model_selection import train_test_split\n",
    "\n",
    "#customize iPython writefile so we can write variables\n",
    "from IPython.core.magic import register_line_cell_magic\n",
    "\n",
    "@register_line_cell_magic\n",
    "def writetemplate(line, cell):\n",
    "    with open(line, 'w') as f:\n",
    "        f.write(cell.format(**globals()))"
   ]
  },
  {
   "cell_type": "code",
   "execution_count": 24,
   "id": "3f79ae1d",
   "metadata": {
    "execution": {
     "iopub.execute_input": "2022-03-21T15:53:11.618652Z",
     "iopub.status.busy": "2022-03-21T15:53:11.617945Z",
     "iopub.status.idle": "2022-03-21T15:53:11.620964Z",
     "shell.execute_reply": "2022-03-21T15:53:11.621543Z",
     "shell.execute_reply.started": "2022-03-21T14:03:10.491448Z"
    },
    "papermill": {
     "duration": 0.045996,
     "end_time": "2022-03-21T15:53:11.621714",
     "exception": false,
     "start_time": "2022-03-21T15:53:11.575718",
     "status": "completed"
    },
    "tags": []
   },
   "outputs": [
    {
     "name": "stdout",
     "output_type": "stream",
     "text": [
      "/kaggle\n"
     ]
    }
   ],
   "source": [
    "# Everything is done from /kaggle directory.\n",
    "%cd ../"
   ]
  },
  {
   "cell_type": "code",
   "execution_count": 25,
   "id": "dd1660c3",
   "metadata": {
    "execution": {
     "iopub.execute_input": "2022-03-21T15:53:11.704175Z",
     "iopub.status.busy": "2022-03-21T15:53:11.703376Z",
     "iopub.status.idle": "2022-03-21T15:53:12.355396Z",
     "shell.execute_reply": "2022-03-21T15:53:12.354921Z",
     "shell.execute_reply.started": "2022-03-21T14:03:10.499926Z"
    },
    "papermill": {
     "duration": 0.695399,
     "end_time": "2022-03-21T15:53:12.355567",
     "exception": false,
     "start_time": "2022-03-21T15:53:11.660168",
     "status": "completed"
    },
    "tags": []
   },
   "outputs": [
    {
     "name": "stdout",
     "output_type": "stream",
     "text": [
      "names:\r\n",
      "- D00\r\n",
      "- D01\r\n",
      "- D10\r\n",
      "- D11\r\n",
      "- D20\r\n",
      "- D40\r\n",
      "- D43\r\n",
      "- D44\r\n",
      "- D50\r\n",
      "nc: 9\r\n",
      "train: data/Train\r\n",
      "val: data/Valid\r\n"
     ]
    }
   ],
   "source": [
    "import yaml\n",
    "\n",
    "classes_kaggle = {\n",
    "    \n",
    "\"train\": \"data/Train\",\n",
    "\"val\": \"data/Valid\",\n",
    "#\"test\": \"../Road_Sign_Dataset/images/test/\",\n",
    "\n",
    "# number of classes\n",
    "\"nc\": 9,\n",
    "\n",
    "# class names\n",
    "\"names\": [\"D00\",\"D01\",\"D10\",\"D11\",\"D20\",\n",
    "          \"D40\",\"D43\",\"D44\",\"D50\"]\n",
    "}\n",
    "\n",
    "with open('tmp/yolov5/data/data.yaml', 'w') as file:\n",
    "    yaml.dump(classes_kaggle, file)\n",
    "\n",
    "%cat tmp/yolov5/data/data.yaml"
   ]
  },
  {
   "cell_type": "code",
   "execution_count": 26,
   "id": "b6576c2b",
   "metadata": {
    "execution": {
     "iopub.execute_input": "2022-03-21T15:53:12.443265Z",
     "iopub.status.busy": "2022-03-21T15:53:12.442308Z",
     "iopub.status.idle": "2022-03-21T15:53:12.445028Z",
     "shell.execute_reply": "2022-03-21T15:53:12.444623Z",
     "shell.execute_reply.started": "2022-03-21T14:03:11.187368Z"
    },
    "papermill": {
     "duration": 0.048118,
     "end_time": "2022-03-21T15:53:12.445135",
     "exception": false,
     "start_time": "2022-03-21T15:53:12.397017",
     "status": "completed"
    },
    "tags": []
   },
   "outputs": [],
   "source": [
    "DIM       = 3000 \n",
    "MODEL     = 'yolov5s6'\n",
    "BATCH     = 4\n",
    "IMG_SIZE = 600\n",
    "BATCH_SIZE = 16\n",
    "EPOCHS = 2\n",
    "OPTMIZER  = 'Adam'\n",
    "\n",
    "PROJECT   = 'RDD' # w&b in yolov5\n",
    "NAME      = f'{MODEL}-dim{DIM}_Epoch{EPOCHS}' # w&b for yolov5"
   ]
  },
  {
   "cell_type": "code",
   "execution_count": 27,
   "id": "8abd375f",
   "metadata": {
    "execution": {
     "iopub.execute_input": "2022-03-21T15:53:12.526075Z",
     "iopub.status.busy": "2022-03-21T15:53:12.525218Z",
     "iopub.status.idle": "2022-03-21T15:53:12.529453Z",
     "shell.execute_reply": "2022-03-21T15:53:12.528867Z",
     "shell.execute_reply.started": "2022-03-21T14:03:11.195138Z"
    },
    "papermill": {
     "duration": 0.046426,
     "end_time": "2022-03-21T15:53:12.529601",
     "exception": false,
     "start_time": "2022-03-21T15:53:12.483175",
     "status": "completed"
    },
    "tags": []
   },
   "outputs": [
    {
     "name": "stdout",
     "output_type": "stream",
     "text": [
      "/kaggle/tmp/yolov5\n"
     ]
    }
   ],
   "source": [
    "%cd tmp/yolov5"
   ]
  },
  {
   "cell_type": "code",
   "execution_count": 28,
   "id": "67943b4f",
   "metadata": {
    "execution": {
     "iopub.execute_input": "2022-03-21T15:53:12.645468Z",
     "iopub.status.busy": "2022-03-21T15:53:12.644642Z",
     "iopub.status.idle": "2022-03-21T15:53:13.432535Z",
     "shell.execute_reply": "2022-03-21T15:53:13.432060Z",
     "shell.execute_reply.started": "2022-03-21T14:03:11.205166Z"
    },
    "papermill": {
     "duration": 0.864125,
     "end_time": "2022-03-21T15:53:13.432668",
     "exception": false,
     "start_time": "2022-03-21T15:53:12.568543",
     "status": "completed"
    },
    "tags": []
   },
   "outputs": [
    {
     "name": "stdout",
     "output_type": "stream",
     "text": [
      "\u001b[0m\u001b[01;34myolov5\u001b[0m/\r\n"
     ]
    }
   ],
   "source": [
    "%ls ../../tmp"
   ]
  },
  {
   "cell_type": "code",
   "execution_count": 29,
   "id": "44892129",
   "metadata": {
    "execution": {
     "iopub.execute_input": "2022-03-21T15:53:13.522955Z",
     "iopub.status.busy": "2022-03-21T15:53:13.516372Z",
     "iopub.status.idle": "2022-03-21T16:05:32.820964Z",
     "shell.execute_reply": "2022-03-21T16:05:32.820358Z"
    },
    "papermill": {
     "duration": 739.348845,
     "end_time": "2022-03-21T16:05:32.821110",
     "exception": false,
     "start_time": "2022-03-21T15:53:13.472265",
     "status": "completed"
    },
    "tags": []
   },
   "outputs": [
    {
     "name": "stdout",
     "output_type": "stream",
     "text": [
      "\u001b[34m\u001b[1mwandb\u001b[0m: (1) Create a W&B account\r\n",
      "\u001b[34m\u001b[1mwandb\u001b[0m: (2) Use an existing W&B account\r\n",
      "\u001b[34m\u001b[1mwandb\u001b[0m: (3) Don't visualize my results\r\n",
      "\u001b[34m\u001b[1mwandb\u001b[0m: Enter your choice: (30 second timeout) \r\n",
      "\u001b[34m\u001b[1mwandb\u001b[0m: W&B disabled due to login timeout.\r\n",
      "Downloading https://github.com/ultralytics/yolov5/releases/download/v6.1/yolov5s.pt to yolov5s.pt...\r\n",
      "100%|███████████████████████████████████████| 14.1M/14.1M [00:00<00:00, 127MB/s]\r\n",
      "\r\n",
      "\u001b[34m\u001b[1mtrain: \u001b[0mScanning '/kaggle/tmp/yolov5/data/Train/labels' images and labels...7354 \u001b[0m\r\n",
      "\u001b[34m\u001b[1mval: \u001b[0mScanning '/kaggle/tmp/yolov5/data/Valid/labels' images and labels...3152 fo\u001b[0m\r\n",
      "       0/1     3.15G   0.08433   0.03189   0.04774        28       608: 100%|███\r\n",
      "               Class     Images     Labels          P          R     mAP@.5 mAP@\r\n",
      "       1/1     3.57G    0.0638   0.02815   0.02714        36       608: 100%|███\r\n",
      "               Class     Images     Labels          P          R     mAP@.5 mAP@\r\n",
      "               Class     Images     Labels          P          R     mAP@.5 mAP@\r\n",
      "Exception ignored in: <function _MultiProcessingDataLoaderIter.__del__ at 0x7fa23797fa70>\r\n",
      "Traceback (most recent call last):\r\n",
      "  File \"/opt/conda/lib/python3.7/site-packages/torch/utils/data/dataloader.py\", line 1328, in __del__\r\n",
      "  File \"/opt/conda/lib/python3.7/site-packages/torch/utils/data/dataloader.py\", line 1262, in _shutdown_workers\r\n",
      "AttributeError: 'NoneType' object has no attribute 'python_exit_status'\r\n",
      "Exception ignored in: <function _MultiProcessingDataLoaderIter.__del__ at 0x7fa23797fa70>\r\n",
      "Traceback (most recent call last):\r\n",
      "  File \"/opt/conda/lib/python3.7/site-packages/torch/utils/data/dataloader.py\", line 1328, in __del__\r\n",
      "  File \"/opt/conda/lib/python3.7/site-packages/torch/utils/data/dataloader.py\", line 1262, in _shutdown_workers\r\n",
      "AttributeError: 'NoneType' object has no attribute 'python_exit_status'\r\n"
     ]
    }
   ],
   "source": [
    "!python train.py --img {IMG_SIZE} \\\n",
    "                 --batch {BATCH_SIZE} \\\n",
    "                 --epochs {EPOCHS} \\\n",
    "                 --data ./data/data.yaml \\\n",
    "                 --weights yolov5s.pt \\\n",
    "                 --project rdd"
   ]
  },
  {
   "cell_type": "code",
   "execution_count": 30,
   "id": "139fc463",
   "metadata": {
    "execution": {
     "iopub.execute_input": "2022-03-21T16:05:33.701959Z",
     "iopub.status.busy": "2022-03-21T16:05:33.701091Z",
     "iopub.status.idle": "2022-03-21T16:05:33.703866Z",
     "shell.execute_reply": "2022-03-21T16:05:33.704246Z"
    },
    "papermill": {
     "duration": 0.44624,
     "end_time": "2022-03-21T16:05:33.704373",
     "exception": false,
     "start_time": "2022-03-21T16:05:33.258133",
     "status": "completed"
    },
    "tags": []
   },
   "outputs": [
    {
     "data": {
      "text/plain": [
       "'/kaggle/tmp/yolov5'"
      ]
     },
     "execution_count": 30,
     "metadata": {},
     "output_type": "execute_result"
    }
   ],
   "source": [
    "%pwd"
   ]
  },
  {
   "cell_type": "code",
   "execution_count": 31,
   "id": "b2c0451b",
   "metadata": {
    "execution": {
     "iopub.execute_input": "2022-03-21T16:05:34.579565Z",
     "iopub.status.busy": "2022-03-21T16:05:34.578768Z",
     "iopub.status.idle": "2022-03-21T16:05:35.226457Z",
     "shell.execute_reply": "2022-03-21T16:05:35.227215Z"
    },
    "papermill": {
     "duration": 1.088957,
     "end_time": "2022-03-21T16:05:35.227391",
     "exception": false,
     "start_time": "2022-03-21T16:05:34.138434",
     "status": "completed"
    },
    "tags": []
   },
   "outputs": [
    {
     "name": "stdout",
     "output_type": "stream",
     "text": [
      "\u001b[0m\u001b[01;34minput\u001b[0m/  \u001b[01;34mlib\u001b[0m/  \u001b[01;34msrc\u001b[0m/  \u001b[01;34mtmp\u001b[0m/  \u001b[01;34mworking\u001b[0m/\r\n"
     ]
    }
   ],
   "source": [
    "%ls ../../"
   ]
  },
  {
   "cell_type": "code",
   "execution_count": 32,
   "id": "49e2b867",
   "metadata": {
    "execution": {
     "iopub.execute_input": "2022-03-21T16:05:36.126639Z",
     "iopub.status.busy": "2022-03-21T16:05:36.125869Z",
     "iopub.status.idle": "2022-03-21T16:05:38.303886Z",
     "shell.execute_reply": "2022-03-21T16:05:38.303326Z"
    },
    "papermill": {
     "duration": 2.630319,
     "end_time": "2022-03-21T16:05:38.304021",
     "exception": false,
     "start_time": "2022-03-21T16:05:35.673702",
     "status": "completed"
    },
    "tags": []
   },
   "outputs": [],
   "source": [
    "%cp -r ../../tmp/yolov5/ /kaggle/working/"
   ]
  },
  {
   "cell_type": "code",
   "execution_count": 33,
   "id": "33abaafb",
   "metadata": {
    "execution": {
     "iopub.execute_input": "2022-03-21T16:05:39.197676Z",
     "iopub.status.busy": "2022-03-21T16:05:39.197016Z",
     "iopub.status.idle": "2022-03-21T16:05:39.200013Z",
     "shell.execute_reply": "2022-03-21T16:05:39.200397Z"
    },
    "papermill": {
     "duration": 0.447806,
     "end_time": "2022-03-21T16:05:39.200545",
     "exception": false,
     "start_time": "2022-03-21T16:05:38.752739",
     "status": "completed"
    },
    "tags": []
   },
   "outputs": [
    {
     "data": {
      "text/plain": [
       "'!python train.py --img {IMG_SIZE}                  --batch {BATCH_SIZE}                  --epochs {EPOCHS}                  --data ./data/data.yaml                  --weights yolov5s.pt                  --save_period 1                 --project rdd'"
      ]
     },
     "execution_count": 33,
     "metadata": {},
     "output_type": "execute_result"
    }
   ],
   "source": [
    "\"\"\"!python train.py --img {IMG_SIZE} \\\n",
    "                 --batch {BATCH_SIZE} \\\n",
    "                 --epochs {EPOCHS} \\\n",
    "                 --data ./data/data.yaml \\\n",
    "                 --weights yolov5s.pt \\\n",
    "                 --save_period 1\\\n",
    "                 --project rdd\"\"\""
   ]
  },
  {
   "cell_type": "code",
   "execution_count": 34,
   "id": "47edf4c8",
   "metadata": {
    "execution": {
     "iopub.execute_input": "2022-03-21T16:05:40.142730Z",
     "iopub.status.busy": "2022-03-21T16:05:40.141866Z",
     "iopub.status.idle": "2022-03-21T16:05:40.884810Z",
     "shell.execute_reply": "2022-03-21T16:05:40.883705Z"
    },
    "papermill": {
     "duration": 1.24542,
     "end_time": "2022-03-21T16:05:40.884981",
     "exception": false,
     "start_time": "2022-03-21T16:05:39.639561",
     "status": "completed"
    },
    "tags": []
   },
   "outputs": [
    {
     "name": "stdout",
     "output_type": "stream",
     "text": [
      "\u001b[0m\u001b[01;34myolov5\u001b[0m/\r\n"
     ]
    }
   ],
   "source": [
    "%ls ../../tmp"
   ]
  },
  {
   "cell_type": "code",
   "execution_count": null,
   "id": "1d7212ac",
   "metadata": {
    "papermill": {
     "duration": 0.440386,
     "end_time": "2022-03-21T16:05:41.864374",
     "exception": false,
     "start_time": "2022-03-21T16:05:41.423988",
     "status": "completed"
    },
    "tags": []
   },
   "outputs": [],
   "source": []
  }
 ],
 "metadata": {
  "kernelspec": {
   "display_name": "Python 3",
   "language": "python",
   "name": "python3"
  },
  "language_info": {
   "codemirror_mode": {
    "name": "ipython",
    "version": 3
   },
   "file_extension": ".py",
   "mimetype": "text/x-python",
   "name": "python",
   "nbconvert_exporter": "python",
   "pygments_lexer": "ipython3",
   "version": "3.7.12"
  },
  "papermill": {
   "default_parameters": {},
   "duration": 925.173184,
   "end_time": "2022-03-21T16:05:43.126301",
   "environment_variables": {},
   "exception": null,
   "input_path": "__notebook__.ipynb",
   "output_path": "__notebook__.ipynb",
   "parameters": {},
   "start_time": "2022-03-21T15:50:17.953117",
   "version": "2.3.3"
  }
 },
 "nbformat": 4,
 "nbformat_minor": 5
}
